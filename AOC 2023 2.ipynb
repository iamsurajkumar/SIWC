{
 "cells": [
  {
   "cell_type": "code",
   "execution_count": 1,
   "metadata": {},
   "outputs": [],
   "source": [
    "import os\n",
    "\n",
    "# Set the AOC_SESSION environment variable\n",
    "os.environ['AOC_SESSION'] = '53616c7465645f5f91d7f8513f7656979068bf5f3667996a8ad3907312eba347179fdcc3ee10a8b3e6e0ce849979d3d6e6fe872d0a0e0ec17404d8e6c5c5a55f'"
   ]
  },
  {
   "cell_type": "code",
   "execution_count": 6,
   "metadata": {},
   "outputs": [
    {
     "name": "stdout",
     "output_type": "stream",
     "text": [
      "Part A answer: 2377\n",
      "Part B answer: 71220\n"
     ]
    }
   ],
   "source": [
    "from aocd import get_data, submit\n",
    "\n",
    "def game_transformer(line):\n",
    "    # Split the line into Game ID and sets\n",
    "    game_id, sets = line.split(\":\")\n",
    "    game_number = int(game_id.split()[1])\n",
    "    \n",
    "    # Split into individual game sets\n",
    "    sub_sets = sets.split(\";\")\n",
    "    game_sets = []\n",
    "    \n",
    "    # Process each set\n",
    "    for sub_set in sub_sets:\n",
    "        colors = {'red': 0, 'green': 0, 'blue': 0}\n",
    "        color_counts = sub_set.split(',')\n",
    "        \n",
    "        for count in color_counts:\n",
    "            count = count.strip()\n",
    "            number, color = count.split()\n",
    "            colors[color] = int(number)\n",
    "        game_sets.append(colors)\n",
    "    \n",
    "    return (game_number, game_sets)\n",
    "\n",
    "def game_checker(game_info, max_cubes={'red': 12, 'green': 13, 'blue': 14}):\n",
    "    game_number, game_sets = game_info\n",
    "    feasible_game_sets = []\n",
    "    \n",
    "    for game_set in game_sets:\n",
    "        is_feasible = True\n",
    "        for color, count in game_set.items():\n",
    "            if count > max_cubes[color]:\n",
    "                is_feasible = False\n",
    "                break\n",
    "        feasible_game_sets.append(is_feasible)\n",
    "    \n",
    "    return (game_number, feasible_game_sets)\n",
    "\n",
    "def process_game(line):\n",
    "    game_info = game_transformer(line)\n",
    "    game_number, feasible_sets = game_checker(game_info)\n",
    "    \n",
    "    if all(feasible_sets):\n",
    "        return game_number\n",
    "    else:\n",
    "        return 0\n",
    "\n",
    "def game_power(game_info):\n",
    "    game_number, game_sets = game_info\n",
    "    min_cubes = {'red': 0, 'green': 0, 'blue': 0}\n",
    "    \n",
    "    for game_set in game_sets:\n",
    "        for color, count in game_set.items():\n",
    "            if count > min_cubes[color]:\n",
    "                min_cubes[color] = count\n",
    "    \n",
    "    power = min_cubes['red'] * min_cubes['green'] * min_cubes['blue']\n",
    "    return power\n",
    "\n",
    "def main():\n",
    "    # Get input data\n",
    "    inp = get_data(day=2, year=2023)\n",
    "    lines = inp.split(\"\\n\")\n",
    "    \n",
    "    # Part A\n",
    "    answer_a = sum(process_game(line) for line in lines)\n",
    "    print(f\"Part A answer: {answer_a}\")\n",
    "    \n",
    "    # Part B\n",
    "    answer_b = sum(game_power(game_transformer(line)) for line in lines)\n",
    "    print(f\"Part B answer: {answer_b}\")\n",
    "\n",
    "# Direct execution instead of using if __name__ block\n",
    "main()\n"
   ]
  },
  {
   "cell_type": "code",
   "execution_count": null,
   "metadata": {},
   "outputs": [],
   "source": []
  }
 ],
 "metadata": {
  "kernelspec": {
   "display_name": "base",
   "language": "python",
   "name": "python3"
  },
  "language_info": {
   "codemirror_mode": {
    "name": "ipython",
    "version": 3
   },
   "file_extension": ".py",
   "mimetype": "text/x-python",
   "name": "python",
   "nbconvert_exporter": "python",
   "pygments_lexer": "ipython3",
   "version": "3.12.7"
  }
 },
 "nbformat": 4,
 "nbformat_minor": 2
}
