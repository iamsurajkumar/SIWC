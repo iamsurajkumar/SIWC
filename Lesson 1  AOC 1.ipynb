{
 "cells": [
  {
   "cell_type": "code",
   "execution_count": 1,
   "metadata": {},
   "outputs": [],
   "source": [
    "import os\n",
    "\n",
    "# Set the AOC_SESSION environment variable\n",
    "os.environ['AOC_SESSION'] = '53616c7465645f5f91d7f8513f7656979068bf5f3667996a8ad3907312eba347179fdcc3ee10a8b3e6e0ce849979d3d6e6fe872d0a0e0ec17404d8e6c5c5a55f'"
   ]
  },
  {
   "cell_type": "code",
   "execution_count": 2,
   "metadata": {},
   "outputs": [],
   "source": [
    "from aocd import get_data\n",
    "inp = get_data(day=1, year=2023)"
   ]
  },
  {
   "cell_type": "code",
   "execution_count": 5,
   "metadata": {},
   "outputs": [],
   "source": [
    "# Summary Code\n",
    "\n",
    "lines = inp.split('\\n')\n",
    "sample_line = lines[0]\n",
    "\n",
    "def first_digit(line):\n",
    "    for char in line:\n",
    "        if char.isdigit():\n",
    "            return(char)\n",
    "        else:\n",
    "            return(\"Error\")\n",
    "        \n",
    "def last_digit(line):\n",
    "    for char in reversed(line):\n",
    "        if char.isdigit():\n",
    "            return(char)\n",
    "    return(\"Error\")\n",
    "\n",
    "def calibration_value(line):\n",
    "    # Get the first digit\n",
    "    first = 0\n",
    "    last = 0\n",
    "    for char in line:\n",
    "        if char.isdigit():\n",
    "            first = char\n",
    "            # print(first)\n",
    "            break\n",
    "    for char in reversed(line):\n",
    "        if char.isdigit():\n",
    "            last = char\n",
    "            # print(last)\n",
    "            break    \n",
    "    return(int(first+last))\n",
    "\n",
    "def total_calibration_value(sample_lines):\n",
    "    total = 0\n",
    "    for line in sample_lines:\n",
    "        total = total + calibration_value(line)\n",
    "    return(total)"
   ]
  },
  {
   "cell_type": "code",
   "execution_count": 6,
   "metadata": {},
   "outputs": [
    {
     "data": {
      "text/plain": [
       "55607"
      ]
     },
     "execution_count": 6,
     "metadata": {},
     "output_type": "execute_result"
    }
   ],
   "source": [
    "btotal_calibration_value(lines)"
   ]
  },
  {
   "cell_type": "code",
   "execution_count": null,
   "metadata": {},
   "outputs": [],
   "source": []
  },
  {
   "cell_type": "markdown",
   "metadata": {},
   "source": [
    "## 1.B Part"
   ]
  },
  {
   "cell_type": "code",
   "execution_count": 10,
   "metadata": {},
   "outputs": [],
   "source": [
    "number_words = {\n",
    "    'one': '1', 'two': '2', 'three': '3', 'four': '4', 'five': '5',\n",
    "    'six': '6', 'seven': '7', 'eight': '8', 'nine': '9'\n",
    "}"
   ]
  },
  {
   "cell_type": "code",
   "execution_count": 11,
   "metadata": {},
   "outputs": [
    {
     "name": "stdout",
     "output_type": "stream",
     "text": [
      "Testing first 10 lines:\n",
      "Line 1: sixrrmlkptmc18zhvninek -> 69\n",
      "Line 2: jcb82eightwond -> 82\n",
      "Line 3: twofourthree778nineeight -> 28\n",
      "Line 4: sqpxs1cgcrmctlgqvzxbcjzgr -> 11\n",
      "Line 5: nqkjxbmbpkz9eight8 -> 98\n",
      "Line 6: one6fourfiveqndtrvgkkgthppnine -> 19\n",
      "Line 7: zbrbdpbfcfxcqq5oneninejfgqpkfn -> 59\n",
      "Line 8: hvlstzgvmjfivefourqjqtxdjmbxfour4four2 -> 52\n",
      "Line 9: 13dzbmbtl6 -> 16\n",
      "Line 10: fourone2pmlxzzbmnfxg2 -> 42\n"
     ]
    }
   ],
   "source": [
    "# Counts only the first instance of the word, not the second instanc of the numbe word\n",
    "def get_calibration_value(line):    # takes a string line as input\n",
    "    # First find positions\n",
    "    positions = {}\n",
    "    \n",
    "    # Find digits\n",
    "    for i, char in enumerate(line):\n",
    "        if char.isdigit():\n",
    "            positions[i] = char\n",
    "            \n",
    "    # Find number words\n",
    "    for word, digit in number_words.items():\n",
    "        pos = line.find(word)\n",
    "        if pos != -1:\n",
    "            positions[pos] = digit\n",
    "    \n",
    "    # Sort positions\n",
    "    positions = dict(sorted(positions.items()))\n",
    "    \n",
    "    # Calculate value\n",
    "    if len(positions) == 0:\n",
    "        return 0\n",
    "    elif len(positions) == 1:\n",
    "        single_digit = list(positions.values())[0]\n",
    "        return int(single_digit + single_digit)\n",
    "    else:\n",
    "        values = list(positions.values())\n",
    "        return int(values[0] + values[-1])\n",
    "\n",
    "# Test with first 10 lines\n",
    "print(\"Testing first 10 lines:\")\n",
    "for i, line in enumerate(lines[:10]):\n",
    "    value = get_calibration_value(line)\n",
    "    print(f\"Line {i+1}: {line} -> {value}\")\n"
   ]
  },
  {
   "cell_type": "code",
   "execution_count": 12,
   "metadata": {},
   "outputs": [
    {
     "name": "stdout",
     "output_type": "stream",
     "text": [
      "Testing: oneight -> 18\n",
      "Testing: oneight -> 18\n",
      "Testing: twone -> 21\n",
      "Testing: twone -> 21\n",
      "Testing: eighthree -> 83\n",
      "Testing: eighthree -> 83\n"
     ]
    }
   ],
   "source": [
    "# Counts both the all instance of the number word\n",
    "def get_calibration_value2(line):    \n",
    "    positions = {}\n",
    "    \n",
    "    # Find all digits\n",
    "    for i, char in enumerate(line):\n",
    "        if char.isdigit():\n",
    "            positions[i] = char\n",
    "            \n",
    "    # Find all occurrences of number words\n",
    "    for word, digit in number_words.items():\n",
    "        pos = 0\n",
    "        while pos < len(line):\n",
    "            new_pos = line.find(word, pos)\n",
    "            if new_pos == -1:\n",
    "                break\n",
    "            positions[new_pos] = digit\n",
    "            pos = new_pos + 1\n",
    "    \n",
    "    # Sort positions\n",
    "    positions = dict(sorted(positions.items()))\n",
    "    \n",
    "    # Calculate value\n",
    "    if len(positions) == 0:\n",
    "        return 0\n",
    "    elif len(positions) == 1:\n",
    "        single_digit = list(positions.values())[0]\n",
    "        return int(single_digit + single_digit)\n",
    "    else:\n",
    "        values = list(positions.values())\n",
    "        return int(values[0] + values[-1])\n",
    "\n",
    "# Let's test with a few example lines first\n",
    "test_lines = [\"oneight\", \"twone\", \"eighthree\"]\n",
    "for line in test_lines:\n",
    "    print(f\"Testing: {line} -> {get_calibration_value(line)}\")\n",
    "    print(f\"Testing: {line} -> {get_calibration_value2(line)}\")\n"
   ]
  },
  {
   "cell_type": "code",
   "execution_count": 19,
   "metadata": {},
   "outputs": [],
   "source": [
    "def total_calibration_value1(all_lines):\n",
    "    total = 0\n",
    "    for line in all_lines:\n",
    "        value = get_calibration_value(line)\n",
    "        total += value\n",
    "    return total\n",
    "\n",
    "\n",
    "def total_calibration_value2(all_lines):\n",
    "    total = 0\n",
    "    for line in all_lines:\n",
    "        value = get_calibration_value2(line)\n",
    "        total += value\n",
    "    return total\n"
   ]
  },
  {
   "cell_type": "code",
   "execution_count": 20,
   "metadata": {},
   "outputs": [
    {
     "name": "stdout",
     "output_type": "stream",
     "text": [
      "Total calibration value: 55276\n",
      "Total calibration value: 55291\n"
     ]
    }
   ],
   "source": [
    "\n",
    "# Let's test it with all lines\n",
    "result = total_calibration_value1(lines)\n",
    "print(f\"Total calibration value: {result}\")\n",
    "\n",
    "result2 = total_calibration_value2(lines)\n",
    "print(f\"Total calibration value: {result2}\")"
   ]
  }
 ],
 "metadata": {
  "kernelspec": {
   "display_name": "base",
   "language": "python",
   "name": "python3"
  },
  "language_info": {
   "codemirror_mode": {
    "name": "ipython",
    "version": 3
   },
   "file_extension": ".py",
   "mimetype": "text/x-python",
   "name": "python",
   "nbconvert_exporter": "python",
   "pygments_lexer": "ipython3",
   "version": "3.12.7"
  }
 },
 "nbformat": 4,
 "nbformat_minor": 2
}
